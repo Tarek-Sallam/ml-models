{
 "cells": [
  {
   "cell_type": "markdown",
   "metadata": {},
   "source": [
    "# Logistic Regression Example "
   ]
  },
  {
   "cell_type": "markdown",
   "metadata": {},
   "source": [
    "Imports:"
   ]
  },
  {
   "cell_type": "code",
   "execution_count": 1,
   "metadata": {},
   "outputs": [],
   "source": [
    "import sys\n",
    "import numpy as np\n",
    "import matplotlib.pyplot as plt\n",
    "\n",
    "from pathlib import Path\n",
    "\n",
    "sys.path.append(str(Path().resolve().parent))\n",
    "\n",
    "from models.LogisticRegression import LogisticRegression\n",
    "from Trainer import Trainer\n",
    "from optimizers.SGDOptimizer import SGDOptimizer\n",
    "from loss.CrossEntropyLoss import BinaryCrossEntropyLoss"
   ]
  },
  {
   "cell_type": "markdown",
   "metadata": {},
   "source": [
    "Generate some data: (You may want to use custom data here)"
   ]
  },
  {
   "cell_type": "code",
   "execution_count": 2,
   "metadata": {},
   "outputs": [
    {
     "data": {
      "text/plain": [
       "(array([0.        , 0.05263158, 0.10526316, 0.15789474, 0.21052632,\n",
       "        0.26315789, 0.31578947, 0.36842105, 0.42105263, 0.47368421,\n",
       "        0.52631579, 0.57894737, 0.63157895, 0.68421053, 0.73684211,\n",
       "        0.78947368, 0.84210526, 0.89473684, 0.94736842, 1.        ]),\n",
       " array([0, 0, 0, 0, 0, 0, 0, 0, 0, 0, 1, 1, 1, 1, 1, 1, 1, 1, 1, 1]))"
      ]
     },
     "execution_count": 2,
     "metadata": {},
     "output_type": "execute_result"
    }
   ],
   "source": [
    "x = np.linspace(0, 1, 20)\n",
    "X = np.reshape(x, (x.shape[0], 1)) # for use in our model\n",
    "y = np.array([0 if point + 0.4 * (np.random.rand() - 0.5) < 0.5 else 1 for point in x])\n",
    "\n",
    "points = np.linspace(0, 1, 100) # purely so that we see the regression curve\n",
    "Points = np.reshape(points, (points.shape[0], 1))\n",
    "x, y"
   ]
  },
  {
   "cell_type": "markdown",
   "metadata": {},
   "source": [
    "Initialize our model, loss, optimizer:"
   ]
  },
  {
   "cell_type": "code",
   "execution_count": 10,
   "metadata": {},
   "outputs": [],
   "source": [
    "model = LogisticRegression(1)\n",
    "optimizer = SGDOptimizer(0.1)\n",
    "loss = BinaryCrossEntropyLoss()\n",
    "\n",
    "trainer = Trainer(model, loss, optimizer)\n"
   ]
  },
  {
   "cell_type": "markdown",
   "metadata": {},
   "source": [
    "Plot our data and line before training:"
   ]
  },
  {
   "cell_type": "code",
   "execution_count": 11,
   "metadata": {},
   "outputs": [
    {
     "data": {
      "image/png": "[encoded data removed]",
      "text/plain": [
       "<Figure size 640x480 with 1 Axes>"
      ]
     },
     "metadata": {},
     "output_type": "display_data"
    }
   ],
   "source": [
    "fig, ax = plt.subplots()\n",
    "\n",
    "ax.plot(x, y, 'o')\n",
    "y_pred = trainer.model(Points)\n",
    "ax.plot(points, y_pred)\n",
    "plt.show()"
   ]
  },
  {
   "cell_type": "markdown",
   "metadata": {},
   "source": [
    "Train our model and plot results:"
   ]
  },
  {
   "cell_type": "code",
   "execution_count": 12,
   "metadata": {},
   "outputs": [
    {
     "name": "stdout",
     "output_type": "stream",
     "text": [
      "Epoch: 1\n",
      "Loss: 13.395466130023863\n",
      "Epoch: 2\n",
      "Loss: 12.890139654237698\n",
      "Epoch: 3\n",
      "Loss: 12.422427818755109\n",
      "Epoch: 4\n",
      "Loss: 11.987722370696662\n",
      "Epoch: 5\n",
      "Loss: 11.583211230764462\n",
      "Epoch: 6\n",
      "Loss: 11.206469118872883\n",
      "Epoch: 7\n",
      "Loss: 10.855261078593202\n",
      "Epoch: 8\n",
      "Loss: 10.527515514776924\n",
      "Epoch: 9\n",
      "Loss: 10.221318411282793\n",
      "Epoch: 10\n",
      "Loss: 9.93490818704852\n",
      "Epoch: 11\n",
      "Loss: 9.666668895395425\n",
      "Epoch: 12\n",
      "Loss: 9.415122041034405\n",
      "Epoch: 13\n",
      "Loss: 9.178917557754035\n",
      "Epoch: 14\n",
      "Loss: 8.956824415011333\n",
      "Epoch: 15\n",
      "Loss: 8.747721207659083\n",
      "Epoch: 16\n",
      "Loss: 8.550586980836753\n",
      "Epoch: 17\n",
      "Loss: 8.364492459482044\n",
      "Epoch: 18\n",
      "Loss: 8.188591788176439\n",
      "Epoch: 19\n",
      "Loss: 8.022114839362448\n",
      "Epoch: 20\n",
      "Loss: 7.864360113330551\n",
      "Epoch: 21\n",
      "Loss: 7.714688228978363\n",
      "Epoch: 22\n",
      "Loss: 7.572515987805236\n",
      "Epoch: 23\n",
      "Loss: 7.437310982963349\n",
      "Epoch: 24\n",
      "Loss: 7.308586718881601\n",
      "Epoch: 25\n",
      "Loss: 7.185898203795739\n",
      "Epoch: 26\n",
      "Loss: 7.06883797652836\n",
      "Epoch: 27\n",
      "Loss: 6.957032529367518\n",
      "Epoch: 28\n",
      "Loss: 6.850139090375759\n",
      "Epoch: 29\n",
      "Loss: 6.747842730546335\n",
      "Epoch: 30\n",
      "Loss: 6.649853763640742\n",
      "Epoch: 31\n",
      "Loss: 6.555905409102842\n",
      "Epoch: 32\n",
      "Loss: 6.465751691020394\n",
      "Epoch: 33\n",
      "Loss: 6.379165548609411\n",
      "Epoch: 34\n",
      "Loss: 6.295937136076624\n",
      "Epoch: 35\n",
      "Loss: 6.215872291939325\n",
      "Epoch: 36\n",
      "Loss: 6.138791159934404\n",
      "Epoch: 37\n",
      "Loss: 6.064526945525184\n",
      "Epoch: 38\n",
      "Loss: 5.992924793718119\n",
      "Epoch: 39\n",
      "Loss: 5.923840775439173\n",
      "Epoch: 40\n",
      "Loss: 5.857140971101436\n",
      "Epoch: 41\n",
      "Loss: 5.792700641233264\n",
      "Epoch: 42\n",
      "Loss: 5.73040347514158\n",
      "Epoch: 43\n",
      "Loss: 5.6701409095704705\n",
      "Epoch: 44\n",
      "Loss: 5.611811510192344\n",
      "Epoch: 45\n",
      "Loss: 5.555320409548558\n",
      "Epoch: 46\n",
      "Loss: 5.500578795749326\n",
      "Epoch: 47\n",
      "Loss: 5.447503446857573\n",
      "Epoch: 48\n",
      "Loss: 5.396016306427522\n",
      "Epoch: 49\n",
      "Loss: 5.3460440961533084\n",
      "Epoch: 50\n",
      "Loss: 5.297517962013095\n",
      "Epoch: 51\n",
      "Loss: 5.250373150676104\n",
      "Epoch: 52\n",
      "Loss: 5.204548713279145\n",
      "Epoch: 53\n",
      "Loss: 5.159987233980773\n",
      "Epoch: 54\n",
      "Loss: 5.116634580969038\n",
      "Epoch: 55\n",
      "Loss: 5.07443967783736\n",
      "Epoch: 56\n",
      "Loss: 5.033354293455161\n",
      "Epoch: 57\n",
      "Loss: 4.993332848649025\n",
      "Epoch: 58\n",
      "Loss: 4.954332238178704\n",
      "Epoch: 59\n",
      "Loss: 4.9163116666426\n",
      "Epoch: 60\n",
      "Loss: 4.879232497081783\n",
      "Epoch: 61\n",
      "Loss: 4.843058111171465\n",
      "Epoch: 62\n",
      "Loss: 4.807753779996303\n",
      "Epoch: 63\n",
      "Loss: 4.77328654450202\n",
      "Epoch: 64\n",
      "Loss: 4.739625104801878\n",
      "Epoch: 65\n",
      "Loss: 4.706739717593889\n",
      "Epoch: 66\n",
      "Loss: 4.674602101013907\n",
      "Epoch: 67\n",
      "Loss: 4.643185346312107\n",
      "Epoch: 68\n",
      "Loss: 4.612463835796388\n",
      "Epoch: 69\n",
      "Loss: 4.5824131665366385\n",
      "Epoch: 70\n",
      "Loss: 4.553010079369351\n",
      "Epoch: 71\n",
      "Loss: 4.524232392782937\n",
      "Epoch: 72\n",
      "Loss: 4.496058941301221\n",
      "Epoch: 73\n",
      "Loss: 4.468469518015918\n",
      "Epoch: 74\n",
      "Loss: 4.441444820949191\n",
      "Epoch: 75\n",
      "Loss: 4.41496640295473\n",
      "Epoch: 76\n",
      "Loss: 4.389016624890574\n",
      "Epoch: 77\n",
      "Loss: 4.363578611819362\n",
      "Epoch: 78\n",
      "Loss: 4.3386362120121165\n",
      "Epoch: 79\n",
      "Loss: 4.314173958550188\n",
      "Epoch: 80\n",
      "Loss: 4.290177033336777\n",
      "Epoch: 81\n",
      "Loss: 4.2666312333448495\n",
      "Epoch: 82\n",
      "Loss: 4.243522938942138\n",
      "Epoch: 83\n",
      "Loss: 4.220839084146693\n",
      "Epoch: 84\n",
      "Loss: 4.1985671286779755\n",
      "Epoch: 85\n",
      "Loss: 4.176695031679156\n",
      "Epoch: 86\n",
      "Loss: 4.1552112269958705\n",
      "Epoch: 87\n",
      "Loss: 4.1341045999055615\n",
      "Epoch: 88\n",
      "Loss: 4.113364465199622\n",
      "Epoch: 89\n",
      "Loss: 4.092980546527963\n",
      "Epoch: 90\n",
      "Loss: 4.07294295692239\n",
      "Epoch: 91\n",
      "Loss: 4.05324218042144\n",
      "Epoch: 92\n",
      "Loss: 4.033869054724999\n",
      "Epoch: 93\n",
      "Loss: 4.014814754812281\n",
      "Epoch: 94\n",
      "Loss: 3.9960707774615876\n",
      "Epoch: 95\n",
      "Loss: 3.9776289266146785\n",
      "Epoch: 96\n",
      "Loss: 3.9594812995326527\n",
      "Epoch: 97\n",
      "Loss: 3.941620273694044\n",
      "Epoch: 98\n",
      "Loss: 3.9240384943892495\n",
      "Epoch: 99\n",
      "Loss: 3.906728862968623\n",
      "Epoch: 100\n",
      "Loss: 3.889684525704528\n"
     ]
    }
   ],
   "source": [
    "trainer.train(X, y, 500)"
   ]
  },
  {
   "cell_type": "markdown",
   "metadata": {},
   "source": [
    "Plot the trained model:"
   ]
  },
  {
   "cell_type": "code",
   "execution_count": 13,
   "metadata": {},
   "outputs": [
    {
     "data": {
      "image/png": "[encoded data removed]",
      "text/plain": [
       "<Figure size 640x480 with 1 Axes>"
      ]
     },
     "metadata": {},
     "output_type": "display_data"
    }
   ],
   "source": [
    "fig, ax = plt.subplots()\n",
    "\n",
    "ax.plot(x, y, 'o')\n",
    "y_pred = trainer.model(Points)\n",
    "ax.plot(points, y_pred)\n",
    "plt.show()"
   ]
  }
 ],
 "metadata": {
  "kernelspec": {
   "display_name": ".venv",
   "language": "python",
   "name": "python3"
  },
  "language_info": {
   "codemirror_mode": {
    "name": "ipython",
    "version": 3
   },
   "file_extension": ".py",
   "mimetype": "text/x-python",
   "name": "python",
   "nbconvert_exporter": "python",
   "pygments_lexer": "ipython3",
   "version": "3.12.5"
  }
 },
 "nbformat": 4,
 "nbformat_minor": 2
}
